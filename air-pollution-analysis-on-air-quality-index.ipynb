{
 "cells": [
  {
   "cell_type": "markdown",
   "metadata": {
    "_cell_guid": "dba85107-9068-423c-ac77-d6d488f5c43a",
    "_uuid": "6d343c9c40ec416b65a05e75b227fd1c7653751c"
   },
   "source": [
    "# Air Pollution\n",
    "\n",
    "## What is it?\n",
    "\n",
    "**Air pollution happens when harmful substances are released into the air, which can be very bad for both our health and the planet. It's one of the biggest threats humanity has ever faced. It harms animals, plants, forests, and water bodies. It also weakens the ozone layer, which shields the Earth from harmful sunlight. Other problems caused by air pollution include smog (haze), water pollution (eutrophication), and changes in the global climate.\n",
    "## What causes Air Pollution?\n",
    "\n",
    "Air pollution is mostly caused by the use and production of energy. When we burn fossil fuels like coal, oil, and gas, harmful gases and chemicals are released into the air. This creates a harmful cycle: air pollution contributes to climate change, and climate change makes air pollution worse. For example, gases like carbon dioxide and methane heat up the Earth, which makes the air hotter. This leads to smog, which forms more easily when it’s hot and there’s more sunlight. Climate change also makes air pollution worse by increasing things like mold (due to more flooding and damp conditions) and pollen (because of longer pollen seasons and more plants producing pollen)."
   ]
  },
  {
   "cell_type": "markdown",
   "metadata": {
    "_cell_guid": "a54ad93d-d795-4628-99e6-0084ef9c88c1",
    "_uuid": "3ad33a07619375a9b3b07048a6b1ed9b376189bb"
   },
   "source": [
    "# Importing the necessary libraries"
   ]
  },
  {
   "cell_type": "code",
   "execution_count": null,
   "metadata": {
    "_cell_guid": "a84f3cea-8e25-4a24-bcb6-8443bea6914e",
    "_uuid": "7f5d8bf8936fd1ffeba1ab2d3b2fd7bd1eee3445",
    "collapsed": true,
    "trusted": true
   },
   "outputs": [],
   "source": [
    "import seaborn as sns\n",
    "import numpy as np\n",
    "import pandas as pd\n",
    "import plotly.express as px\n",
    "import matplotlib.pyplot \n",
    "import matplotlib.pyplot as plt"
   ]
  },
  {
   "cell_type": "markdown",
   "metadata": {
    "_cell_guid": "8262a7e2-0bae-4e73-969e-a4ee0c41deff",
    "_uuid": "02905df41c4ebb4e1b59b95a438bac4cd8f7f86a"
   },
   "source": [
    "# Starting with the dataset\n",
    "\n",
    "Now, we will be creating a dataset and list down all the tables for this particular dataset."
   ]
  },
  {
   "cell_type": "code",
   "execution_count": null,
   "metadata": {
    "_cell_guid": "98dfedc7-de4b-4c9c-b931-537c640b3e83",
    "_uuid": "d851b4eb3c03af72ab1d6f5c1cda83f902473963",
    "trusted": true
   },
   "outputs": [],
   "source": [
    "dataset = pd.read_csv(r\"C:\\Users\\hp\\OneDrive\\Desktop\\project\\Air_Quality.csv\")"
   ]
  },
  {
   "cell_type": "markdown",
   "metadata": {
    "_cell_guid": "bcc32e51-a881-482d-ab12-f59c1fc2a3a0",
    "_uuid": "4c5724d17249d7a98cef1e07519e6f9f362e39e5"
   },
   "source": [
    "So, we can see that we have only one table (**air_quality**) in the dataset .\n",
    "\n",
    "Let's find out what are the different attributes for the table.\n",
    "\n",
    "### Display Table *Air_Quality*"
   ]
  },
  {
   "cell_type": "code",
   "execution_count": null,
   "metadata": {
    "_cell_guid": "754c7c73-3151-482a-bab6-84f67bf0e0f0",
    "_uuid": "63f1304a199b29d75f3d8248c0652c08cabdb6d0",
    "scrolled": true,
    "trusted": true
   },
   "outputs": [],
   "source": [
    "dataset.head()"
   ]
  },
  {
   "cell_type": "markdown",
   "metadata": {
    "_uuid": "c5e9d26c19d1ed77c6ee4a6895d53b4585bb9e3b"
   },
   "source": [
    "# Air Quality Index(AQI) :pollutant_avg Over the City"
   ]
  },
  {
   "cell_type": "code",
   "execution_count": null,
   "metadata": {
    "_kg_hide-output": true,
    "_uuid": "7e22faebf22e7e626e21f88bd504832f3cdab5a5",
    "trusted": true
   },
   "outputs": [],
   "source": [
    "fig = px.scatter(dataset,x=\"city\",y=\"pollutant_avg\")\n",
    "fig.show()"
   ]
  },
  {
   "cell_type": "markdown",
   "metadata": {
    "_uuid": "d5b0140feb3008593b5b4af5b15f6c1a89d3787f"
   },
   "source": [
    "We can see from the above animated image that the number of city affected by pollutant_avg increases over the number of years.\n",
    "Now, we will have a find out the  countries listed in the AQI.\n",
    "\n",
    "# Countries listed in Air Quality Index (AQI)"
   ]
  },
  {
   "cell_type": "code",
   "execution_count": null,
   "metadata": {
    "_kg_hide-output": true,
    "_uuid": "8aa72f01b95e5588fe95aae34db75e053bd76512",
    "trusted": true
   },
   "outputs": [],
   "source": [
    "dataset1 = pd.read_csv(r\"C:\\Users\\hp\\OneDrive\\Desktop\\project\\AIR.csv\")\n",
    "dataset1.info()"
   ]
  },
  {
   "cell_type": "markdown",
   "metadata": {
    "_uuid": "2ce5013c201e67b4a9cdd211640b8d58ed609caa"
   },
   "source": [
    "So, we can see that the pollution level in different places are at an alarming condition. The European countries(topping the list, USA,South and South-East Asian conutries are making more pollution, where as Australia, Africa and South Africa do not make up to the topper's list."
   ]
  },
  {
   "cell_type": "markdown",
   "metadata": {
    "_uuid": "cffc2276aebf9144b29bb2188d7e596599d20f64"
   },
   "source": [
    "# Countries producing more pollution\n"
   ]
  },
  {
   "cell_type": "code",
   "execution_count": null,
   "metadata": {
    "_uuid": "2969a676c7ed6c97f41d059cb2fea35cb3fb6cbf",
    "trusted": true
   },
   "outputs": [],
   "source": [
    "dataset1.head()"
   ]
  },
  {
   "cell_type": "markdown",
   "metadata": {
    "_cell_guid": "99af079f-2c54-429e-9f6b-5ac47affefe6",
    "_uuid": "7bbbd4529c48c03b9e5a9a86374dc47e58e1c70e"
   },
   "source": [
    "So, listed above are some of the countries along with their source providers. \n"
   ]
  },
  {
   "cell_type": "markdown",
   "metadata": {
    "_cell_guid": "91fec50c-c86a-4500-94f6-437c1465d02f",
    "_uuid": "49da727d07b643fd1140bc131df6b68cf3e110f9"
   },
   "source": [
    "According to the data produced above, we will now plot a graph to find out the leading sources(in terms of number of countries) to provide the **Air Quality Data/Pollution Report**.\n",
    "\n",
    "# Graph Plot"
   ]
  },
  {
   "cell_type": "code",
   "execution_count": null,
   "metadata": {
    "_cell_guid": "a0639a9d-1a7b-479f-8273-c394f5d2ffab",
    "_uuid": "5b1eac8b4e31d3a40e27139d92d0b8808cbb21d7",
    "collapsed": true,
    "trusted": true
   },
   "outputs": [],
   "source": [
    "top_cities = dataset1.nsmallest(10, '2021')\n",
    "\n",
    "plt.figure(figsize=(12, 8))\n",
    "plt.bar(top_cities['City'], top_cities['2021'], color='skyblue')\n",
    "plt.title('Top 10 City Rankings in 2021', fontsize=16)\n",
    "plt.xlabel('City', fontsize=12)\n",
    "plt.ylabel('Rank', fontsize=12)\n",
    "plt.xticks(rotation=45, fontsize=10)  \n",
    "plt.tight_layout()\n",
    "plt.show()"
   ]
  },
  {
   "cell_type": "markdown",
   "metadata": {
    "_cell_guid": "b0dc7a2a-9e03-4145-858e-fa5fc6c0926d",
    "_uuid": "c643a1c58fa82263f3f47d77143d9b2f5a6e8dd1"
   },
   "source": [
    "To be continued ......\n",
    "\n",
    "I will be back soon with some more interesting visualizations. \n"
   ]
  }
 ],
 "metadata": {
  "kernelspec": {
   "display_name": "Python 3",
   "language": "python",
   "name": "python3"
  },
  "language_info": {
   "codemirror_mode": {
    "name": "ipython",
    "version": 3
   },
   "file_extension": ".py",
   "mimetype": "text/x-python",
   "name": "python",
   "nbconvert_exporter": "python",
   "pygments_lexer": "ipython3",
   "version": "3.6.4"
  }
 },
 "nbformat": 4,
 "nbformat_minor": 1
}
